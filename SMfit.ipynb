{
 "cells": [
  {
   "cell_type": "code",
   "execution_count": 1,
   "metadata": {},
   "outputs": [],
   "source": [
    "%matplotlib tk\n",
    "%load_ext autoreload\n",
    "%autoreload 2\n",
    "\n",
    "import numpy as np\n",
    "import matplotlib as mpl\n",
    "import matplotlib.pyplot as plt\n",
    "from scipy.optimize import curve_fit\n",
    "import utilities as ut\n",
    "\n",
    "\n",
    "fitting_function = ut.multi_pV\n",
    "plt.style.use('bmh')"
   ]
  },
  {
   "cell_type": "markdown",
   "metadata": {
    "tags": []
   },
   "source": [
    "### Your data\n",
    "\n",
    "<details><summary>Here, we'll create some artificial data:</summary>\n",
    "\n",
    "<div class=\"alert alert-block alert-info\">\n",
    "    You should replace the block which follows by loading your own data\n",
    "    in form of x and y as numpy arrays of shape (\"length of data\", )<br>\n",
    "    For example: <br>\n",
    "    <pre>>>> x, y = np.loadtxt(\"your_file_containing_data.txt\")</pre>\n",
    "</div>\n",
    "</details>"
   ]
  },
  {
   "cell_type": "code",
   "execution_count": 4,
   "metadata": {},
   "outputs": [],
   "source": [
    "dummy_params = [[51, 200, 85, 0.3],\n",
    "                [10, 272, 37, 0.8],\n",
    "                [2.7, 317, 39, 0.52],\n",
    "                [3.9, 471, 62, 0.25]]\n",
    "\n",
    "x = np.arange(0, 584, 1.34)\n",
    "y = fitting_function(x, *dummy_params)  # Here it's the multi_pV function\n",
    "# Add some noise to the data:\n",
    "y += np.random.random(len(x)) * np.mean(y)/5"
   ]
  },
  {
   "cell_type": "code",
   "execution_count": null,
   "metadata": {},
   "outputs": [],
   "source": [
    "test_data = np.load(\"quentin_test.npy\")\n",
    "y = np.median(test_data, axis=0)\n",
    "x = np.load(\"quentin_x.npy\")"
   ]
  },
  {
   "cell_type": "code",
   "execution_count": 3,
   "metadata": {
    "tags": []
   },
   "outputs": [
    {
     "name": "stderr",
     "output_type": "stream",
     "text": [
      "/Users/dejanskrelic/Documents/scripts/SemiManual-fitting/utilities.py:137: SparseEfficiencyWarning: spsolve requires A be CSC or CSR matrix format\n",
      "  z = sparse.linalg.spsolve(Z, w*yi)\n"
     ]
    }
   ],
   "source": [
    "# Calculate the baseline using the default parameters:\n",
    "bl = ut.baseline_als(y)\n",
    "\n",
    "# Check the result visually:\n",
    "plt.figure()\n",
    "plt.plot(x, y, 'ok', alpha=.5)\n",
    "plt.plot(x, bl, '-m', lw=3)\n",
    "plt.show()\n",
    "\n",
    "# Remove the baseline from the `y`:\n",
    "y -= bl"
   ]
  },
  {
   "cell_type": "markdown",
   "metadata": {},
   "source": [
    "### The funny part:  \n"
   ]
  },
  {
   "cell_type": "code",
   "execution_count": 4,
   "metadata": {},
   "outputs": [
    {
     "data": {
      "text/plain": [
       "<utilities.ShowSpectra at 0x30b042c50>"
      ]
     },
     "execution_count": 4,
     "metadata": {},
     "output_type": "execute_result"
    }
   ],
   "source": [
    "ut.ShowSpectra(y, x)"
   ]
  },
  {
   "cell_type": "code",
   "execution_count": null,
   "metadata": {},
   "outputs": [],
   "source": [
    "# check the docstring for the fitonclick class:\n",
    "figsize=(12, 6)\n",
    "mfit = ut.fitonclick(y, x, scrolling_speed=4, figsize=figsize)"
   ]
  },
  {
   "cell_type": "code",
   "execution_count": 6,
   "metadata": {},
   "outputs": [
    {
     "data": {
      "text/plain": [
       "array([2.99652729e-04, 4.79172616e+02, 5.40048097e+01, 9.99988537e-01,\n",
       "       2.05817326e-03, 5.50992443e+02, 5.80839180e+01, 9.68390090e-01,\n",
       "       1.80304448e-03, 6.15280989e+02, 7.32392418e+01, 9.99672460e-01,\n",
       "       2.67787692e-04, 6.33407698e+02, 3.70324551e+01, 9.56939610e-01])"
      ]
     },
     "execution_count": 6,
     "metadata": {},
     "output_type": "execute_result"
    }
   ],
   "source": [
    "mfit.fitted_params"
   ]
  },
  {
   "cell_type": "code",
   "execution_count": 41,
   "metadata": {},
   "outputs": [
    {
     "data": {
      "text/plain": [
       "['Solarize_Light2',\n",
       " '_classic_test_patch',\n",
       " '_mpl-gallery',\n",
       " '_mpl-gallery-nogrid',\n",
       " 'bmh',\n",
       " 'classic',\n",
       " 'dark_background',\n",
       " 'fast',\n",
       " 'fivethirtyeight',\n",
       " 'ggplot',\n",
       " 'grayscale',\n",
       " 'seaborn-v0_8',\n",
       " 'seaborn-v0_8-bright',\n",
       " 'seaborn-v0_8-colorblind',\n",
       " 'seaborn-v0_8-dark',\n",
       " 'seaborn-v0_8-dark-palette',\n",
       " 'seaborn-v0_8-darkgrid',\n",
       " 'seaborn-v0_8-deep',\n",
       " 'seaborn-v0_8-muted',\n",
       " 'seaborn-v0_8-notebook',\n",
       " 'seaborn-v0_8-paper',\n",
       " 'seaborn-v0_8-pastel',\n",
       " 'seaborn-v0_8-poster',\n",
       " 'seaborn-v0_8-talk',\n",
       " 'seaborn-v0_8-ticks',\n",
       " 'seaborn-v0_8-white',\n",
       " 'seaborn-v0_8-whitegrid',\n",
       " 'tableau-colorblind10']"
      ]
     },
     "execution_count": 41,
     "metadata": {},
     "output_type": "execute_result"
    }
   ],
   "source": [
    "plt.style.available"
   ]
  }
 ],
 "metadata": {
  "kernelspec": {
   "display_name": "raman_svi",
   "language": "python",
   "name": "python3"
  },
  "language_info": {
   "codemirror_mode": {
    "name": "ipython",
    "version": 3
   },
   "file_extension": ".py",
   "mimetype": "text/x-python",
   "name": "python",
   "nbconvert_exporter": "python",
   "pygments_lexer": "ipython3",
   "version": "3.11.13"
  }
 },
 "nbformat": 4,
 "nbformat_minor": 4
}
